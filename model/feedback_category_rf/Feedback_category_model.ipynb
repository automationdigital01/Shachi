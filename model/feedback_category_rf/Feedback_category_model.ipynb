{
 "cells": [
  {
   "cell_type": "code",
   "execution_count": 1,
   "metadata": {},
   "outputs": [],
   "source": [
    "import pandas as pd\n",
    "from sklearn.ensemble import RandomForestClassifier\n",
    "import string\n",
    "from sklearn.feature_extraction.text import TfidfVectorizer\n",
    "from nltk.corpus import stopwords\n",
    "from sklearn.model_selection import train_test_split\n",
    "from sklearn.metrics import accuracy_score\n",
    "from nltk import PorterStemmer\n",
    "import joblib\n",
    "from sklearn.model_selection import KFold ,cross_val_score\n",
    "import numpy as np"
   ]
  },
  {
   "cell_type": "markdown",
   "metadata": {},
   "source": [
    "# Dataframe"
   ]
  },
  {
   "cell_type": "code",
   "execution_count": 2,
   "metadata": {},
   "outputs": [
    {
     "name": "stderr",
     "output_type": "stream",
     "text": [
      "Some weights of BertForSequenceClassification were not initialized from the model checkpoint at bert-base-uncased and are newly initialized: ['classifier.weight', 'classifier.bias']\n",
      "You should probably TRAIN this model on a down-stream task to be able to use it for predictions and inference.\n"
     ]
    }
   ],
   "source": [
    "# import torch\n",
    "# from transformers import BertTokenizer, BertForSequenceClassification\n",
    "# # Load the pre-trained BERT model and tokenizer\n",
    "# model = BertForSequenceClassification.from_pretrained(\"bert-base-uncased\",num_labels=2)\n",
    "# tokenizer = BertTokenizer.from_pretrained('bert-base-uncased')\n",
    "# # model = BertForSequenceClassification.from_pretrained(model_name)"
   ]
  },
  {
   "cell_type": "code",
   "execution_count": 3,
   "metadata": {},
   "outputs": [],
   "source": [
    "feedback_data=pd.read_excel('feedback_categorize.xlsx')"
   ]
  },
  {
   "cell_type": "code",
   "execution_count": 4,
   "metadata": {},
   "outputs": [],
   "source": [
    "feedback_data=feedback_data.drop(['SrNum','Category'],axis=1)\n",
    "feedback_data=feedback_data.drop_duplicates()\n",
    "feedback_data=feedback_data.dropna()\n",
    "feedback_data['Feedback_copy']=feedback_data['Feedback']"
   ]
  },
  {
   "cell_type": "code",
   "execution_count": 5,
   "metadata": {},
   "outputs": [
    {
     "data": {
      "text/plain": [
       "(598, 3)"
      ]
     },
     "execution_count": 5,
     "metadata": {},
     "output_type": "execute_result"
    }
   ],
   "source": [
    "feedback_data.shape"
   ]
  },
  {
   "cell_type": "code",
   "execution_count": 6,
   "metadata": {},
   "outputs": [
    {
     "data": {
      "text/plain": [
       "feedback_category\n",
       "training         68\n",
       "office           68\n",
       "management       68\n",
       "compensation     68\n",
       "workload         67\n",
       "opportunities    67\n",
       "values           65\n",
       "culture          64\n",
       "team             63\n",
       "Name: count, dtype: int64"
      ]
     },
     "execution_count": 6,
     "metadata": {},
     "output_type": "execute_result"
    }
   ],
   "source": [
    "feedback_data.feedback_category.value_counts()"
   ]
  },
  {
   "cell_type": "markdown",
   "metadata": {},
   "source": [
    "# Sentiment"
   ]
  },
  {
   "cell_type": "code",
   "execution_count": 56,
   "metadata": {},
   "outputs": [
    {
     "name": "stderr",
     "output_type": "stream",
     "text": [
      "No model was supplied, defaulted to distilbert-base-uncased-finetuned-sst-2-english and revision af0f99b (https://huggingface.co/distilbert-base-uncased-finetuned-sst-2-english).\n",
      "Using a pipeline without specifying a model name and revision in production is not recommended.\n"
     ]
    },
    {
     "data": {
      "text/plain": [
       "[{'label': 'POSITIVE', 'score': 0.9998836517333984},\n",
       " {'label': 'NEGATIVE', 'score': 0.9986737966537476},\n",
       " {'label': 'NEGATIVE', 'score': 0.9931689500808716},\n",
       " {'label': 'NEGATIVE', 'score': 0.9950055480003357},\n",
       " {'label': 'NEGATIVE', 'score': 0.9976702332496643}]"
      ]
     },
     "execution_count": 56,
     "metadata": {},
     "output_type": "execute_result"
    }
   ],
   "source": [
    "from transformers import pipeline\n",
    "sentiment_pipeline=pipeline('sentiment-analysis')\n",
    "data=[\"I enjoy working here; the team is fantastic\",\"The workload is overwhelming, and I need more support\",\"Communication within the team needs improvement\",\"The cafeteria food could be improved\",'workload is hectic']\n",
    "sentiment_pipeline(data)"
   ]
  },
  {
   "cell_type": "code",
   "execution_count": 61,
   "metadata": {},
   "outputs": [],
   "source": [
    "def sentiment_category(text):\n",
    "    result=sentiment_pipeline(text)[0]\n",
    "    return result['label']"
   ]
  },
  {
   "cell_type": "markdown",
   "metadata": {},
   "source": [
    "# Preprocessing"
   ]
  },
  {
   "cell_type": "code",
   "execution_count": 9,
   "metadata": {},
   "outputs": [],
   "source": [
    "v=TfidfVectorizer()"
   ]
  },
  {
   "cell_type": "code",
   "execution_count": 10,
   "metadata": {},
   "outputs": [],
   "source": [
    "def preprocess(text):\n",
    "    text=''.join([char for char in text if char not in string.punctuation])\n",
    "    text=text.lower()\n",
    "    tokens=text.split()\n",
    "\n",
    "    stop_words=set(stopwords.words('english'))\n",
    "    tokens=[word for word in tokens if word not in stop_words]\n",
    "\n",
    "    stemm=PorterStemmer()\n",
    "    # stemm=WordNetLemmatizer()\n",
    "    stemm_tokens=[stemm.stem(token) for token in tokens]\n",
    "\n",
    "\n",
    "    cleaned_text=' '.join(stemm_tokens)\n",
    "    return cleaned_text"
   ]
  },
  {
   "cell_type": "code",
   "execution_count": 11,
   "metadata": {},
   "outputs": [],
   "source": [
    "feedback_data['Feedback']=feedback_data['Feedback'].apply(preprocess)\n",
    "# feedback_data.head(20)"
   ]
  },
  {
   "cell_type": "code",
   "execution_count": 68,
   "metadata": {},
   "outputs": [],
   "source": [
    "\n",
    "feedback_data['sentiment']=feedback_data['Feedback'].apply(sentiment_category)\n",
    "feedback_data.to_excel(\"feedback_categorize_output.xlsx\", index=False)"
   ]
  },
  {
   "cell_type": "code",
   "execution_count": null,
   "metadata": {},
   "outputs": [
    {
     "data": {
      "text/plain": [
       "['sentiment.pkl']"
      ]
     },
     "metadata": {},
     "output_type": "display_data"
    }
   ],
   "source": [
    "joblib.dump(sentiment_pipeline,'sentiment.pkl')"
   ]
  },
  {
   "cell_type": "code",
   "execution_count": 69,
   "metadata": {},
   "outputs": [
    {
     "data": {
      "text/html": [
       "<div>\n",
       "<style scoped>\n",
       "    .dataframe tbody tr th:only-of-type {\n",
       "        vertical-align: middle;\n",
       "    }\n",
       "\n",
       "    .dataframe tbody tr th {\n",
       "        vertical-align: top;\n",
       "    }\n",
       "\n",
       "    .dataframe thead th {\n",
       "        text-align: right;\n",
       "    }\n",
       "</style>\n",
       "<table border=\"1\" class=\"dataframe\">\n",
       "  <thead>\n",
       "    <tr style=\"text-align: right;\">\n",
       "      <th></th>\n",
       "      <th>Feedback</th>\n",
       "      <th>feedback_category</th>\n",
       "      <th>Feedback_copy</th>\n",
       "      <th>category_num</th>\n",
       "      <th>sentiment</th>\n",
       "    </tr>\n",
       "  </thead>\n",
       "  <tbody>\n",
       "    <tr>\n",
       "      <th>0</th>\n",
       "      <td>enjoy work team fantast</td>\n",
       "      <td>team</td>\n",
       "      <td>I enjoy working here; the team is fantastic</td>\n",
       "      <td>0</td>\n",
       "      <td>POSITIVE</td>\n",
       "    </tr>\n",
       "    <tr>\n",
       "      <th>1</th>\n",
       "      <td>workload overwhelm need support</td>\n",
       "      <td>workload</td>\n",
       "      <td>The workload is overwhelming, and I need more ...</td>\n",
       "      <td>1</td>\n",
       "      <td>NEGATIVE</td>\n",
       "    </tr>\n",
       "    <tr>\n",
       "      <th>2</th>\n",
       "      <td>compani mission align valu</td>\n",
       "      <td>values</td>\n",
       "      <td>The company's mission aligns with my values</td>\n",
       "      <td>4</td>\n",
       "      <td>POSITIVE</td>\n",
       "    </tr>\n",
       "    <tr>\n",
       "      <th>3</th>\n",
       "      <td>commun within team need improv</td>\n",
       "      <td>team</td>\n",
       "      <td>Communication within the team needs improvement</td>\n",
       "      <td>0</td>\n",
       "      <td>NEGATIVE</td>\n",
       "    </tr>\n",
       "    <tr>\n",
       "      <th>4</th>\n",
       "      <td>appreci flexibl work schedul</td>\n",
       "      <td>workload</td>\n",
       "      <td>I appreciate the flexibility in my work schedule</td>\n",
       "      <td>1</td>\n",
       "      <td>NEGATIVE</td>\n",
       "    </tr>\n",
       "    <tr>\n",
       "      <th>5</th>\n",
       "      <td>train program help career growth</td>\n",
       "      <td>training</td>\n",
       "      <td>The training programs are helpful for career g...</td>\n",
       "      <td>6</td>\n",
       "      <td>POSITIVE</td>\n",
       "    </tr>\n",
       "    <tr>\n",
       "      <th>6</th>\n",
       "      <td>feel undervalu undercompens</td>\n",
       "      <td>workload</td>\n",
       "      <td>I feel undervalued and undercompensated</td>\n",
       "      <td>1</td>\n",
       "      <td>NEGATIVE</td>\n",
       "    </tr>\n",
       "    <tr>\n",
       "      <th>7</th>\n",
       "      <td>offic environ clean comfort</td>\n",
       "      <td>office</td>\n",
       "      <td>The office environment is clean and comfortable</td>\n",
       "      <td>8</td>\n",
       "      <td>POSITIVE</td>\n",
       "    </tr>\n",
       "    <tr>\n",
       "      <th>8</th>\n",
       "      <td>concern recent chang manag</td>\n",
       "      <td>management</td>\n",
       "      <td>I have concerns about the recent changes in ma...</td>\n",
       "      <td>5</td>\n",
       "      <td>NEGATIVE</td>\n",
       "    </tr>\n",
       "    <tr>\n",
       "      <th>9</th>\n",
       "      <td>love opportun profession develop</td>\n",
       "      <td>opportunities</td>\n",
       "      <td>I love the opportunities for professional deve...</td>\n",
       "      <td>3</td>\n",
       "      <td>POSITIVE</td>\n",
       "    </tr>\n",
       "  </tbody>\n",
       "</table>\n",
       "</div>"
      ],
      "text/plain": [
       "                           Feedback feedback_category  \\\n",
       "0           enjoy work team fantast              team   \n",
       "1   workload overwhelm need support          workload   \n",
       "2        compani mission align valu            values   \n",
       "3    commun within team need improv              team   \n",
       "4      appreci flexibl work schedul          workload   \n",
       "5  train program help career growth          training   \n",
       "6       feel undervalu undercompens          workload   \n",
       "7       offic environ clean comfort            office   \n",
       "8        concern recent chang manag        management   \n",
       "9  love opportun profession develop     opportunities   \n",
       "\n",
       "                                       Feedback_copy  category_num sentiment  \n",
       "0        I enjoy working here; the team is fantastic             0  POSITIVE  \n",
       "1  The workload is overwhelming, and I need more ...             1  NEGATIVE  \n",
       "2        The company's mission aligns with my values             4  POSITIVE  \n",
       "3    Communication within the team needs improvement             0  NEGATIVE  \n",
       "4   I appreciate the flexibility in my work schedule             1  NEGATIVE  \n",
       "5  The training programs are helpful for career g...             6  POSITIVE  \n",
       "6            I feel undervalued and undercompensated             1  NEGATIVE  \n",
       "7    The office environment is clean and comfortable             8  POSITIVE  \n",
       "8  I have concerns about the recent changes in ma...             5  NEGATIVE  \n",
       "9  I love the opportunities for professional deve...             3  POSITIVE  "
      ]
     },
     "execution_count": 69,
     "metadata": {},
     "output_type": "execute_result"
    }
   ],
   "source": [
    "feedback_data.head(10)"
   ]
  },
  {
   "cell_type": "code",
   "execution_count": 13,
   "metadata": {},
   "outputs": [],
   "source": [
    "x = v.fit_transform(feedback_data['Feedback'])"
   ]
  },
  {
   "cell_type": "code",
   "execution_count": 14,
   "metadata": {},
   "outputs": [
    {
     "data": {
      "text/plain": [
       "['tfidf_vectorizer.pkl']"
      ]
     },
     "execution_count": 14,
     "metadata": {},
     "output_type": "execute_result"
    }
   ],
   "source": [
    "joblib.dump(v,'tfidf_vectorizer.pkl')"
   ]
  },
  {
   "cell_type": "code",
   "execution_count": 15,
   "metadata": {},
   "outputs": [],
   "source": [
    "feedback_data['category_num']=feedback_data.feedback_category.map({\n",
    "    'team':0,\n",
    "    'workload':1,\n",
    "    'culture':2,\n",
    "    'opportunities':3,\n",
    "    'values':4,\n",
    "    'management':5,\n",
    "    'training':6,\n",
    "    'compensation':7,\n",
    "    'office':8\n",
    "})\n",
    "\n",
    "# feedback_data['Category_sentiment_num']=feedback_data.Category.map({\n",
    "#     'Negative':0,\n",
    "#     'Positive':1,\n",
    "#     'Constructive':2\n",
    "# })"
   ]
  },
  {
   "cell_type": "markdown",
   "metadata": {},
   "source": [
    "# Train Test Split"
   ]
  },
  {
   "cell_type": "code",
   "execution_count": 16,
   "metadata": {},
   "outputs": [],
   "source": [
    "x_train,x_test,y_train,y_test=train_test_split(\n",
    "    x,\n",
    "    feedback_data.category_num,\n",
    "    test_size=0.2,\n",
    "    random_state=42,\n",
    "    stratify=feedback_data.category_num\n",
    ")"
   ]
  },
  {
   "cell_type": "code",
   "execution_count": 17,
   "metadata": {},
   "outputs": [],
   "source": [
    "import ssl\n",
    "ssl._create_default_https_context = ssl._create_unverified_context"
   ]
  },
  {
   "cell_type": "code",
   "execution_count": 34,
   "metadata": {},
   "outputs": [],
   "source": [
    "k=60\n",
    "kf=KFold(n_splits=k,shuffle=True,random_state=42)"
   ]
  },
  {
   "cell_type": "markdown",
   "metadata": {},
   "source": [
    "# Random Forest Classifier"
   ]
  },
  {
   "cell_type": "code",
   "execution_count": 39,
   "metadata": {},
   "outputs": [
    {
     "name": "stdout",
     "output_type": "stream",
     "text": [
      "Average Random Forest Accuracy on training: 0.78\n",
      "testing accuracy random forest:  0.79\n"
     ]
    }
   ],
   "source": [
    "rf = RandomForestClassifier(n_estimators=200)\n",
    "rf.fit(x_train,y_train)\n",
    "results_rf=cross_val_score(rf,x_train,y_train,cv=kf,scoring='accuracy')\n",
    "\n",
    "average_accuracy_rf=np.mean(results_rf)\n",
    "print(f\"Average Random Forest Accuracy on training: {average_accuracy_rf:.2f}\")\n",
    "\n",
    "\n",
    "y_predict=rf.predict(x_test)\n",
    "accuracy_score_rf=accuracy_score(y_test,y_predict)\n",
    "print(f'testing accuracy random forest:  {accuracy_score_rf:.2f}')"
   ]
  },
  {
   "cell_type": "code",
   "execution_count": 40,
   "metadata": {},
   "outputs": [
    {
     "name": "stdout",
     "output_type": "stream",
     "text": [
      "shape of X_train: (478, 589)\n",
      "shape of x_test: (120, 589)\n"
     ]
    }
   ],
   "source": [
    "print(\"shape of X_train:\",x_train.shape)\n",
    "print(\"shape of x_test:\",x_test.shape)"
   ]
  },
  {
   "cell_type": "code",
   "execution_count": 41,
   "metadata": {},
   "outputs": [
    {
     "data": {
      "text/plain": [
       "category_num\n",
       "8    54\n",
       "1    54\n",
       "3    54\n",
       "7    54\n",
       "6    54\n",
       "5    54\n",
       "4    52\n",
       "0    51\n",
       "2    51\n",
       "Name: count, dtype: int64"
      ]
     },
     "execution_count": 41,
     "metadata": {},
     "output_type": "execute_result"
    }
   ],
   "source": [
    "y_train.value_counts()"
   ]
  },
  {
   "cell_type": "code",
   "execution_count": 42,
   "metadata": {},
   "outputs": [
    {
     "data": {
      "text/plain": [
       "category_num\n",
       "8    14\n",
       "5    14\n",
       "7    14\n",
       "6    14\n",
       "4    13\n",
       "2    13\n",
       "3    13\n",
       "1    13\n",
       "0    12\n",
       "Name: count, dtype: int64"
      ]
     },
     "execution_count": 42,
     "metadata": {},
     "output_type": "execute_result"
    }
   ],
   "source": [
    "y_test.value_counts()"
   ]
  },
  {
   "cell_type": "markdown",
   "metadata": {},
   "source": [
    "# Dummy data"
   ]
  },
  {
   "cell_type": "code",
   "execution_count": 70,
   "metadata": {},
   "outputs": [],
   "source": [
    "dummy_data_input=input()\n",
    "dummy_data=pd.DataFrame({'Feedback':[dummy_data_input]})\n",
    "dummy_data['Feedback']=dummy_data['Feedback'].apply(preprocess)\n",
    "\n",
    "dummy_tfidf=v.transform(dummy_data['Feedback'])\n",
    "# dummy_data['Feedback']\n",
    "\n"
   ]
  },
  {
   "cell_type": "code",
   "execution_count": 71,
   "metadata": {},
   "outputs": [
    {
     "name": "stdout",
     "output_type": "stream",
     "text": [
      "[1]\n"
     ]
    }
   ],
   "source": [
    "y_predict_dummy=rf.predict(dummy_tfidf)\n",
    "print(y_predict_dummy)"
   ]
  },
  {
   "cell_type": "code",
   "execution_count": 72,
   "metadata": {},
   "outputs": [
    {
     "name": "stdout",
     "output_type": "stream",
     "text": [
      "Predicted category: workload\n"
     ]
    }
   ],
   "source": [
    "feedback_category_dict = {\n",
    "    0: 'team',\n",
    "    1: 'workload',\n",
    "    2: 'culture',\n",
    "    3: 'opportunities',\n",
    "    4: 'values',\n",
    "    5: 'management',\n",
    "    6: 'training',\n",
    "    7: 'compensation',\n",
    "    8: 'office'\n",
    "}\n",
    "\n",
    "predicted_category = feedback_category_dict[y_predict_dummy[0]]\n",
    "print(f'Predicted category: {predicted_category}')"
   ]
  },
  {
   "cell_type": "code",
   "execution_count": 46,
   "metadata": {},
   "outputs": [
    {
     "data": {
      "text/plain": [
       "['feedback_model.pkl']"
      ]
     },
     "execution_count": 46,
     "metadata": {},
     "output_type": "execute_result"
    }
   ],
   "source": [
    "joblib.dump(rf,'feedback_model.pkl')"
   ]
  },
  {
   "cell_type": "code",
   "execution_count": 27,
   "metadata": {},
   "outputs": [],
   "source": [
    "# load_model=joblib.load('feedback_model.pkl')\n",
    "# dummy_data_input=input()\n",
    "# dummy_data=pd.DataFrame({'Feedback':[dummy_data_input]})\n",
    "# dummy_data['Feedback']=dummy_data['Feedback'].apply(preprocess)\n",
    "\n",
    "# dummy_tfidf=v.transform(dummy_data['Feedback'])\n",
    "# dummy_data['Feedback']\n",
    "\n",
    "# y_predict_dummy=load_model.predict(dummy_tfidf)\n",
    "# print(y_predict_dummy)\n",
    "# feedback_category_dict = {\n",
    "#     0: 'team',\n",
    "#     1: 'workload',\n",
    "#     2: 'culture',\n",
    "#     3: 'opportunities',\n",
    "#     4: 'values',\n",
    "#     5: 'management',\n",
    "#     6: 'training',\n",
    "#     7: 'compensation',\n",
    "#     8: 'office'\n",
    "# }\n",
    "\n",
    "# predicted_category = feedback_category_dict[y_predict_dummy[0]]\n",
    "# print(f'Predicted category: {predicted_category}')"
   ]
  }
 ],
 "metadata": {
  "kernelspec": {
   "display_name": "Python 3",
   "language": "python",
   "name": "python3"
  },
  "language_info": {
   "codemirror_mode": {
    "name": "ipython",
    "version": 3
   },
   "file_extension": ".py",
   "mimetype": "text/x-python",
   "name": "python",
   "nbconvert_exporter": "python",
   "pygments_lexer": "ipython3",
   "version": "3.10.1"
  },
  "orig_nbformat": 4
 },
 "nbformat": 4,
 "nbformat_minor": 2
}
